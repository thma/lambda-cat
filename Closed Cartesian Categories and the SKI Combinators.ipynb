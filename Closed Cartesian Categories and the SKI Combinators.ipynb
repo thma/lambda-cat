{
 "cells": [
  {
   "cell_type": "markdown",
   "metadata": {},
   "source": [
    "# Introduction\n",
    "\n",
    "\n",
    "Recently I read the very interesting [Compiling to Categories](http://conal.net/papers/compiling-to-categories/compiling-to-categories.pdf) paper by Conal Elliot.\n",
    "\n",
    "He presents the idea to compile haskell programs into a expressions of closed cartesian categories by $\\lambda$-elimination.\n",
    "\n",
    "The process applied reminded me of the [bracket abstraction](https://crypto.stanford.edu/~blynn/lambda/sk.html) used when compiling $\\lambda$-terms to $SKI$-Combinators.\n",
    "\n",
    "In this notebook I'm studying this connection.\n",
    "\n",
    "## bracket abraction in combinatory logic\n",
    "\n",
    "$\\lambda$-terms can be converted to variable free combinator terms with a process called bracket abstraction.\n",
    "Bracket abstraction $[]$ is defined by the following equations:\n",
    "\n",
    "\\begin{align} \n",
    "[\\lambda x.x]   & = I \\\\\n",
    "[\\lambda x.y]   & = Ky \\\\\n",
    "[\\lambda x.P Q] & = S [\\lambda x.P] [\\lambda x.Q]\n",
    "\\end{align}\n",
    "\n",
    "where the combinators $I$, $K$, and $S$ are defined as follows:\n",
    "\n",
    "\\begin{align}\n",
    "I x & = x \\\\\n",
    "K y x & = y \\\\\n",
    "S p q x & = (p x) (q x)\n",
    "\\end{align}\n",
    "\n",
    "In Haskell this combinators could be implemented as follows (we have to use lower case letters as Uppercase first letters are reserved for contructors in Haskell):\n",
    "\n",
    "```haskell\n",
    "i :: a -> a\n",
    "i x = x\n",
    "\n",
    "k :: a -> b -> a\n",
    "k y _ = y\n",
    "\n",
    "s :: (a -> b -> c) -> (a -> b) -> a -> c\n",
    "s p q x = (p x) (q x)  \n",
    "```\n",
    "\n",
    "Once the $\\lambda$-terms are compiled to combinator terms, these terms can be interpreted quite efficiently as they don't contain any variables and so no environment-handling is needed.\n",
    "\n",
    "Combinator terms also allow to apply several more advanced interpretation techniques like graph-reduction, node-sharing, parallel reduction, etc.\n",
    "\n",
    "## Closed Cartesian Categories\n",
    "\n",
    "\n",
    "\n",
    "\n",
    "\n"
   ]
  },
  {
   "cell_type": "code",
   "execution_count": null,
   "metadata": {},
   "outputs": [],
   "source": [
    "Both $I$ and $K$ are part of the Haskell standard prelude under the names `id` and `const`:\n",
    "\n",
    "```haskell\n",
    "-- | Identity function.\n",
    "id :: a -> a\n",
    "id x =  x\n",
    "\n",
    "-- | @const x@ is a unary function which evaluates to @x@ for all inputs.\n",
    "const :: a -> b -> a\n",
    "const x _ =  x\n",
    "```"
   ]
  },
  {
   "cell_type": "code",
   "execution_count": 5,
   "metadata": {},
   "outputs": [
    {
     "ename": "",
     "evalue": "",
     "output_type": "error",
     "traceback": [
      "<interactive>:1:1: error: Data constructor not in scope: I :: a1 -> a1"
     ]
    }
   ],
   "source": [
    "i :: a -> a\n",
    "i x = x\n",
    "\n",
    "\n",
    "i 8\n"
   ]
  },
  {
   "cell_type": "code",
   "execution_count": null,
   "metadata": {},
   "outputs": [],
   "source": []
  }
 ],
 "metadata": {
  "kernelspec": {
   "display_name": "Haskell",
   "language": "haskell",
   "name": "haskell"
  },
  "language_info": {
   "codemirror_mode": "ihaskell",
   "file_extension": ".hs",
   "mimetype": "text/x-haskell",
   "name": "haskell",
   "pygments_lexer": "Haskell",
   "version": "8.10.4"
  }
 },
 "nbformat": 4,
 "nbformat_minor": 4
}
